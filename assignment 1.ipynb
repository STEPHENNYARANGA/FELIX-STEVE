{
 "cells": [
  {
   "cell_type": "code",
   "execution_count": 9,
   "metadata": {},
   "outputs": [],
   "source": [
    "import numpy as np\n",
    "from sympy import *\n",
    "from scipy import *\n",
    "import matplotlib.pyplot as plt\n",
    "from scipy.special import legendre"
   ]
  },
  {
   "cell_type": "markdown",
   "metadata": {},
   "source": [
    "# 1.d) code to implement (c)\n"
   ]
  },
  {
   "cell_type": "code",
   "execution_count": null,
   "metadata": {},
   "outputs": [],
   "source": [
    "# defining x and y values \n",
    "x=np.array([x])\n",
    "y=np.array([y])\n",
    "\n",
    "# defining the function phi\n",
    "def phi(n,x):\n",
    "    return function(n,x)\n",
    "# defining the mxm matrix with the phi function \n",
    "\n",
    "A = np.zeros((M,M))\n",
    "for i in range(M):\n",
    "    for j in range(M):\n",
    "            for k in range(len(x)):\n",
    "                A[i,j] += phi(i,x[k])*phi(j,x[k])\n",
    "\n",
    "#defining the mx1 matrix with phi function and y              \n",
    "B = np.zeros(M)\n",
    "for i in range(M):\n",
    "    for j in range(len(y)):\n",
    "        B[i] += phi(i,x[i])*y[j]\n",
    "# calculating the inverse of matrix A in order to multiply it with matrix B and find the constants a\n",
    "C=np.linalg.inv(A)\n",
    "# finding the constants a \n",
    "a=np.dot(C,B)\n",
    "for i in range(M):\n",
    "    print(a[i])"
   ]
  },
  {
   "cell_type": "markdown",
   "metadata": {},
   "source": [
    "# e.i) unweighted linear regression using legendre polynomials for M=22\n"
   ]
  },
  {
   "cell_type": "code",
   "execution_count": 38,
   "metadata": {},
   "outputs": [
    {
     "name": "stdout",
     "output_type": "stream",
     "text": [
      "enter value of M2\n",
      "a= [4.24455333e+00 2.65987013e-03]\n"
     ]
    }
   ],
   "source": [
    "M=int(input(\"enter value of M\"))\n",
    "x = np.array([-1.0,-0.9,-0.8,-0.7,-0.6,-0.5,-0.4,-0.3,-0.2,-0.1,0,0.1,0.2,0.3,0.4,0.5,0.6,0.7,0.8,0.9,1])\n",
    "y = np.array([5.97193, 5.01053,4.30381,3.95407,3.81861,3.81499,3.79086,3.85924,3.97268,4.04181,4.01606,4.06767,4.00892,3.81718,3.78843,3.76309,3.84435,4.02657,4.26165,5.04042,5.96275])\n",
    "def phi(n,x):\n",
    "    return legendre(n)(x)\n",
    "A = np.zeros((M,M))\n",
    "for i in range(M):\n",
    "    for j in range(M):\n",
    "            for k in range(len(x)):\n",
    "                A[i,j] += phi(i,x[k])*phi(j,x[k])\n",
    "B = np.zeros(M)\n",
    "for i in range(M):\n",
    "    for j in range(len(y)):\n",
    "        B[i] += y[j]*phi(i,x[j])\n",
    "        \n",
    "C=np.linalg.inv(A)\n",
    "\n",
    "a=np.dot(B,C)\n",
    "print('a=',a)\n"
   ]
  },
  {
   "cell_type": "code",
   "execution_count": 39,
   "metadata": {},
   "outputs": [
    {
     "data": {
      "text/plain": [
       "21"
      ]
     },
     "execution_count": 39,
     "metadata": {},
     "output_type": "execute_result"
    }
   ],
   "source": [
    "len(x)"
   ]
  },
  {
   "cell_type": "markdown",
   "metadata": {},
   "source": [
    "# determining the value of y(x_val)"
   ]
  },
  {
   "cell_type": "code",
   "execution_count": 40,
   "metadata": {},
   "outputs": [
    {
     "name": "stdout",
     "output_type": "stream",
     "text": [
      "4.245883268398269\n"
     ]
    }
   ],
   "source": [
    "def yval(x):\n",
    "    y=0\n",
    "    for i in range (len(a)):\n",
    "        y += a[i]*phi(i,x)\n",
    "    return y\n",
    "print(yval(0.5))"
   ]
  },
  {
   "cell_type": "code",
   "execution_count": 14,
   "metadata": {},
   "outputs": [
    {
     "data": {
      "image/png": "[encoded data removed]",
      "text/plain": [
       "<Figure size 432x288 with 1 Axes>"
      ]
     },
     "metadata": {
      "needs_background": "light"
     },
     "output_type": "display_data"
    }
   ],
   "source": [
    "plt.plot(x,y,'g')\n",
    "plt.plot(x[::1],yval(x)[::1],'r')\n",
    "plt.legend([\"exact\",\"approximate\"])\n",
    "plt.show()"
   ]
  },
  {
   "cell_type": "markdown",
   "metadata": {},
   "source": [
    "# unweighted linear regression using legendre polynomials for M=10"
   ]
  },
  {
   "cell_type": "code",
   "execution_count": 44,
   "metadata": {},
   "outputs": [
    {
     "ename": "IndentationError",
     "evalue": "unexpected indent (<ipython-input-44-5e003c040d30>, line 14)",
     "output_type": "error",
     "traceback": [
      "\u001b[0;36m  File \u001b[0;32m\"<ipython-input-44-5e003c040d30>\"\u001b[0;36m, line \u001b[0;32m14\u001b[0m\n\u001b[0;31m    for j in range(len(y)):\u001b[0m\n\u001b[0m    ^\u001b[0m\n\u001b[0;31mIndentationError\u001b[0m\u001b[0;31m:\u001b[0m unexpected indent\n"
     ]
    }
   ],
   "source": [
    "M=int(input(\"enter value of M\"))\n",
    "x = np.array([-1.0,-0.9,-0.8,-0.7,-0.6,-0.5,-0.4,-0.3,-0.2,-0.1,0,0.1,0.2,0.3,0.4,0.5,0.6,0.7,0.8,0.9,1])\n",
    "y = np.array([1.97192903357,1.01053346465,0.303809441058,-0.0459339147147,-0.181385465606,-0.185005248759,-0.209135678253,-0.140763188937,-0.0273231403809,0.041810451954,0.0160626940799,0.0676659240814,0.0089175958109,-0.182818580581,-0.211569056889,-0.236911991568,-0.155648311236,0.0265691965777,0.261645124676,1.04041501387,1.96275125087])\n",
    "\n",
    "def phi(n,x):\n",
    "    return legendre(n)(x)\n",
    "A = np.zeros((M,M))\n",
    "for i in range(M):\n",
    "    for j in range(M):\n",
    "            for k in range(len(x)):\n",
    "                A[i,j] += phi(i,x[k])*phi(j,x[k])\n",
    "B = np.zeros(M)\n",
    "for i in range(M):9\n",
    "    for j in range(len(y)):\n",
    "        B[i] += y[j]*phi(i,x[j])\n",
    "        \n",
    "C=np.linalg.inv(A)\n",
    "\n",
    "a=np.dot(B,C)\n",
    "print('a=',a)"
   ]
  },
  {
   "cell_type": "code",
   "execution_count": 45,
   "metadata": {},
   "outputs": [
    {
     "name": "stdout",
     "output_type": "stream",
     "text": [
      "4.245883268398269\n"
     ]
    }
   ],
   "source": [
    "def yval(x):\n",
    "    y=0\n",
    "    for i in range (len(a)):\n",
    "        y += a[i]*phi(i,x)\n",
    "    return y\n",
    "print(yval(0.5))"
   ]
  },
  {
   "cell_type": "code",
   "execution_count": 46,
   "metadata": {},
   "outputs": [
    {
     "data": {
      "image/png": "[encoded data removed]",
      "text/plain": [
       "<Figure size 432x288 with 1 Axes>"
      ]
     },
     "metadata": {
      "needs_background": "light"
     },
     "output_type": "display_data"
    }
   ],
   "source": [
    "plt.plot(x,y,'g')\n",
    "plt.plot(x[::1],yval(x)[::1],'r')\n",
    "plt.legend([\"exact\",\"approximate\"])\n",
    "plt.show()"
   ]
  },
  {
   "cell_type": "markdown",
   "metadata": {},
   "source": [
    "# unweighted linear regression using legendre polynomials for M=15"
   ]
  },
  {
   "cell_type": "code",
   "execution_count": null,
   "metadata": {},
   "outputs": [],
   "source": [
    "M=int(input(\"enter value of M\"))\n",
    "x = np.array([-1.0,-0.9,-0.8,-0.7,-0.6,-0.5,-0.4,-0.3,-0.2,-0.1,0,0.1,0.2,0.3,0.4,0.5,0.6,0.7,0.8,0.9,1])\n",
    "y = np.array([1.97192903357,1.01053346465,0.303809441058,-0.0459339147147,-0.181385465606,-0.185005248759,-0.209135678253,-0.140763188937,-0.0273231403809,0.041810451954,0.0160626940799,0.0676659240814,0.0089175958109,-0.182818580581,-0.211569056889,-0.236911991568,-0.155648311236,0.0265691965777,0.261645124676,1.04041501387,1.96275125087])\n",
    "\n",
    "def phi(n,x):\n",
    "    return legendre(n)(x)\n",
    "A = np.zeros((M,M))\n",
    "for i in range(M):\n",
    "    for j in range(M):\n",
    "            for k in range(len(x)):\n",
    "                A[i,j] += phi(i,x[k])*phi(j,x[k])\n",
    "B = np.zeros(M)\n",
    "for i in range(M):\n",
    "    for j in range(len(y)):\n",
    "        B[i] += y[j]*phi(i,x[j])\n",
    "        \n",
    "C=np.linalg.inv(A)\n",
    "\n",
    "a=np.dot(B,C)\n",
    "print('a=',a)"
   ]
  },
  {
   "cell_type": "markdown",
   "metadata": {},
   "source": [
    "#### def yval(x):\n",
    "    y=0\n",
    "    for i in range (len(a)):\n",
    "        y += a[i]*phi(i,x)\n",
    "    return y\n",
    "print(yval(0.5))"
   ]
  },
  {
   "cell_type": "code",
   "execution_count": null,
   "metadata": {},
   "outputs": [],
   "source": [
    "plt.plot(x,y,'g')\n",
    "plt.plot(x[::1],yval(x)[::1],'r')\n",
    "plt.legend([\"exact\",\"approximate\"])\n",
    "plt.show()"
   ]
  },
  {
   "cell_type": "markdown",
   "metadata": {},
   "source": [
    "# unweighted linear regression of legendre polynomial for M=20\n"
   ]
  },
  {
   "cell_type": "code",
   "execution_count": null,
   "metadata": {},
   "outputs": [],
   "source": [
    "M=int(input(\"enter value of M\"))\n",
    "x = np.array([-1.0,-0.9,-0.8,-0.7,-0.6,-0.5,-0.4,-0.3,-0.2,-0.1,0,0.1,0.2,0.3,0.4,0.5,0.6,0.7,0.8,0.9,1])\n",
    "y = np.array([1.97192903357,1.01053346465,0.303809441058,-0.0459339147147,-0.181385465606,-0.185005248759,-0.209135678253,-0.140763188937,-0.0273231403809,0.041810451954,0.0160626940799,0.0676659240814,0.0089175958109,-0.182818580581,-0.211569056889,-0.236911991568,-0.155648311236,0.0265691965777,0.261645124676,1.04041501387,1.96275125087])\n",
    "\n",
    "def phi(n,x):\n",
    "    return legendre(n)(x)\n",
    "A = np.zeros((M,M))\n",
    "for i in range(M):\n",
    "    for j in range(M):\n",
    "            for k in range(len(x)):\n",
    "                A[i,j] += phi(i,x[k])*phi(j,x[k])\n",
    "B = np.zeros(M)\n",
    "for i in range(M):\n",
    "    for j in range(len(y)):\n",
    "        B[i] += y[j]*phi(i,x[j])\n",
    "        \n",
    "C=np.linalg.inv(A)\n",
    "\n",
    "a=np.dot(B,C)\n",
    "print('a=',a)"
   ]
  },
  {
   "cell_type": "code",
   "execution_count": null,
   "metadata": {},
   "outputs": [],
   "source": [
    "def yval(x):\n",
    "    y=0\n",
    "    for i in range (len(a)):\n",
    "        y += a[i]*phi(i,x)\n",
    "    return y\n",
    "print(yval(0.5))"
   ]
  },
  {
   "cell_type": "code",
   "execution_count": null,
   "metadata": {},
   "outputs": [],
   "source": [
    "plt.plot(x,y,'g')\n",
    "plt.plot(x[::1],yval(x)[::1],'r')\n",
    "plt.legend([\"exact\",\"approximate\"])\n",
    "plt.show()"
   ]
  },
  {
   "cell_type": "markdown",
   "metadata": {},
   "source": [
    "# 1.f) for M=20"
   ]
  },
  {
   "cell_type": "code",
   "execution_count": 18,
   "metadata": {},
   "outputs": [
    {
     "name": "stdout",
     "output_type": "stream",
     "text": [
      "enter value of M80\n",
      "[-2.69257812e+01 -8.22968750e+01 -1.19937500e+02 -1.58625000e+02\n",
      " -1.73625000e+02 -1.72414062e+02 -1.60250000e+02 -1.18750000e+02\n",
      " -8.62500000e+01 -1.15000000e+01  2.87500000e+01  8.62500000e+01\n",
      "  1.17750000e+02  1.60125000e+02  1.61875000e+02  1.72500000e+02\n",
      "  1.41250000e+02  1.06750000e+02  8.80000000e+01  5.40000000e+01\n",
      "  3.90000000e+01  1.02500000e+01  1.00000000e+00 -1.75000000e+00\n",
      " -4.25000000e+00 -8.75000000e-01  2.50000000e+00 -1.05000000e+01\n",
      "  6.25000000e+00 -2.00000000e+00  1.12500000e+00  8.18750000e+00\n",
      "  3.00000000e+00  1.00000000e+01 -7.50000000e-01 -1.10000000e+01\n",
      " -3.50000000e+00 -1.87500000e+00  1.60000000e+01  1.51562500e+00\n",
      "  3.50000000e+00  5.00000000e-01 -5.12500000e+00  1.65000000e+01\n",
      " -1.37500000e+00 -2.40000000e+01 -3.12500000e+00 -3.40000000e+01\n",
      "  6.00000000e+00 -6.00000000e+00 -1.00000000e+01 -4.78125000e+00\n",
      " -8.50000000e+00  4.00000000e+00 -2.10000000e+01  3.00000000e+00\n",
      " -1.25000000e-01  2.81250000e-01 -7.50000000e+00  1.20000000e+01\n",
      "  2.85937500e+00 -2.50000000e-01 -5.25000000e+00  6.75000000e+00\n",
      "  2.50000000e+00 -1.60000000e+01  1.80000000e+01  3.03906250e+00\n",
      " -1.00000000e+00 -4.15625000e+00 -2.40000000e+01 -7.87500000e+00\n",
      " -1.00000000e+00 -2.25000000e+00  1.70000000e+01  5.25000000e+00\n",
      " -3.25000000e+00  1.05000000e+01  8.75000000e-01  3.00000000e+00]\n"
     ]
    }
   ],
   "source": [
    "M=int(input(\"enter value of M\"))\n",
    "\n",
    "A1 = np.zeros((M,M))\n",
    "for i in range(M):\n",
    "    for j in range(M):\n",
    "            for k in range(len(x)):\n",
    "                A1[i,j] += phi(i,x[k])*phi(j,x[k])/(y[k])**2\n",
    "B1 = np.zeros(M)\n",
    "for i in range(M70):\n",
    "    for j in range(len(y)):\n",
    "        B1[i] += phi(i,x[j])*y[j]/(y[j]**2)\n",
    "        \n",
    "C1=np.linalg.inv(A1)\n",
    "\n",
    "a1=np.dot(C1,B1)\n",
    "print(a1)\n"
   ]
  },
  {
   "cell_type": "code",
   "execution_count": 19,
   "metadata": {},
   "outputs": [
    {
     "name": "stdout",
     "output_type": "stream",
     "text": [
      "-26.92578125\n"
     ]
    }
   ],
   "source": [
    "def yval1(x):\n",
    "    y=0\n",
    "    for i in range (len(a1)):\n",
    "        y += a1[i]*phi(i,x)\n",
    "        return y\n",
    "print(yval1(0.5))"
   ]
  },
  {
   "cell_type": "code",
   "execution_count": 48,
   "metadata": {},
   "outputs": [
    {
     "data": {
      "image/png": "[encoded data removed]",
      "text/plain": [
       "<Figure size 432x288 with 1 Axes>"
      ]
     },
     "metadata": {
      "needs_background": "light"
     },
     "output_type": "display_data"
    }
   ],
   "source": [
    "plt.plot(x,y,'g')\n",
    "plt.plot(x[::1],yval(x)[::1],'r')\n",
    "plt.legend([\"exact\",\"approximate\"])\n",
    "plt.show()"
   ]
  },
  {
   "cell_type": "markdown",
   "metadata": {},
   "source": [
    "# 1.f) for M=15"
   ]
  },
  {
   "cell_type": "code",
   "execution_count": 24,
   "metadata": {},
   "outputs": [
    {
     "name": "stdout",
     "output_type": "stream",
     "text": [
      "enter value of M5\n",
      "[ 0.10520253  0.02883306  0.60605558 -0.06562602  0.61758448]\n"
     ]
    }
   ],
   "source": [
    "M=int(input(\"enter value of M\"))\n",
    "\n",
    "A1 = np.zeros((M,M))\n",
    "for i in range(M):\n",
    "    for j in range(M):\n",
    "            for k in range(len(x)):\n",
    "                A1[i,j] += phi(i,x[k])*phi(j,x[k])/(y[k])**2\n",
    "B1 = np.zeros(M)\n",
    "for i in range(M):\n",
    "    for j in range(len(y)):\n",
    "        B1[i] += phi(i,x[j])*y[j]/(y[j]**2)\n",
    "        \n",
    "C1=np.linalg.inv(A1)\n",
    "\n",
    "a1=np.dot(C1,B1)\n",
    "print(a1)"
   ]
  },
  {
   "cell_type": "code",
   "execution_count": 25,
   "metadata": {},
   "outputs": [
    {
     "name": "stdout",
     "output_type": "stream",
     "text": [
      "0.10520253418459213\n"
     ]
    }
   ],
   "source": [
    "def yval1(x):\n",
    "    y=0\n",
    "    for i in range (len(a1)):\n",
    "        y += a1[i]*phi(i,x)\n",
    "        return y\n",
    "print(yval1(0.5))"
   ]
  },
  {
   "cell_type": "code",
   "execution_count": 26,
   "metadata": {},
   "outputs": [
    {
     "data": {
      "image/png": "[encoded data removed]",
      "text/plain": [
       "<Figure size 432x288 with 1 Axes>"
      ]
     },
     "metadata": {
      "needs_background": "light"
     },
     "output_type": "display_data"
    }
   ],
   "source": [
    "plt.plot(x,y,'g')\n",
    "plt.plot(x[::1],yval(x)[::1],'r')\n",
    "plt.legend([\"exact\",\"approximate\"])\n",
    "plt.show()"
   ]
  },
  {
   "cell_type": "markdown",
   "metadata": {},
   "source": [
    "# 1.f) for M=10"
   ]
  },
  {
   "cell_type": "code",
   "execution_count": 31,
   "metadata": {},
   "outputs": [
    {
     "name": "stdout",
     "output_type": "stream",
     "text": [
      "enter value of M10\n",
      "[ 0.16340162 -0.01124063  0.84613283 -0.06254717  0.82546331 -0.024243\n",
      " -0.02656327  0.02458944 -0.12191145  0.07235638]\n"
     ]
    }
   ],
   "source": [
    "M=int(input(\"enter value of M\"))\n",
    "\n",
    "A1 = np.zeros((M,M))\n",
    "for i in range(M):\n",
    "    for j in range(M):\n",
    "            for k in range(len(x)):\n",
    "                A1[i,j] += phi(i,x[k])*phi(j,x[k])/(y[k])**2\n",
    "B1 = np.zeros(M)\n",
    "for i in range(M):\n",
    "    for j in range(len(y)):\n",
    "        B1[i] += phi(i,x[j])*y[j]/(y[j]**2)\n",
    "        \n",
    "C1=np.linalg.inv(A1)\n",
    "\n",
    "a1=np.dot(C1,B1)\n",
    "print(a1)"
   ]
  },
  {
   "cell_type": "code",
   "execution_count": 32,
   "metadata": {},
   "outputs": [
    {
     "name": "stdout",
     "output_type": "stream",
     "text": [
      "0.16340162222746457\n"
     ]
    }
   ],
   "source": [
    "def yval1(x):\n",
    "    y=0\n",
    "    for i in range (len(a1)):\n",
    "        y += a1[i]*phi(i,x)\n",
    "        return y\n",
    "print(yval1(0.5))"
   ]
  },
  {
   "cell_type": "code",
   "execution_count": 33,
   "metadata": {},
   "outputs": [
    {
     "data": {
      "image/png": "[encoded data removed]",
      "text/plain": [
       "<Figure size 432x288 with 1 Axes>"
      ]
     },
     "metadata": {
      "needs_background": "light"
     },
     "output_type": "display_data"
    }
   ],
   "source": [
    "plt.plot(x,y,'g')\n",
    "plt.plot(x[::1],yval(x)[::1],'r')\n",
    "plt.legend([\"exact\",\"approximate\"])\n",
    "plt.show()"
   ]
  },
  {
   "cell_type": "markdown",
   "metadata": {},
   "source": [
    "# 1.f) M=30"
   ]
  },
  {
   "cell_type": "code",
   "execution_count": null,
   "metadata": {},
   "outputs": [],
   "source": [
    "M=int(input(\"enter value of M\"))\n",
    "\n",
    "A1 = np.zeros((M,M))\n",
    "for i in range(M):\n",
    "    for j in range(M):\n",
    "            for k in range(len(x)):\n",
    "                A1[i,j] += phi(i,x[k])*phi(j,x[k])/(y[k])**2\n",
    "B1 = np.zeros(M)\n",
    "for i in range(M):\n",
    "    for j in range(len(y)):\n",
    "        B1[i] += phi(i,x[j])*y[j]/(y[j]**2)\n",
    "        \n",
    "C1=np.linalg.inv(A1)\n",
    "\n",
    "a1=np.dot(C1,B1)\n",
    "print(a1)"
   ]
  },
  {
   "cell_type": "code",
   "execution_count": null,
   "metadata": {},
   "outputs": [],
   "source": [
    "def yval1(x):\n",
    "    y=0\n",
    "    for i in range (len(a1)):\n",
    "        y += a1[i]*phi(i,x)\n",
    "        return y\n",
    "print(yval1(0.5))"
   ]
  },
  {
   "cell_type": "code",
   "execution_count": null,
   "metadata": {},
   "outputs": [],
   "source": [
    "plt.plot(x,y,'g')\n",
    "plt.plot(x[::1],yval(x)[::1],'r')\n",
    "plt.legend([\"exact\",\"approximate\"])\n",
    "plt.show()"
   ]
  },
  {
   "cell_type": "markdown",
   "metadata": {},
   "source": [
    "# 1.g for M=20"
   ]
  },
  {
   "cell_type": "code",
   "execution_count": null,
   "metadata": {},
   "outputs": [],
   "source": [
    "M=int(input(\"enter value of M\"))\n",
    "\n",
    "A2 = np.zeros((M,M))\n",
    "for i in range(M):\n",
    "    for j in range(M):\n",
    "            for k in range(len(x)):\n",
    "                A2[i,j] += ((x[k])**(i))*((x[k])**(j))\n",
    "B2 = np.zeros(M)\n",
    "for i in range(M):\n",
    "    for j in range(len(y)):\n",
    "        B2[i] += y[j]*((x[j])**(i))\n",
    "        \n",
    "C2=np.linalg.inv(A2)\n",
    "\n",
    "a2=np.dot(C2,B2)\n",
    "print(a2)"
   ]
  },
  {
   "cell_type": "code",
   "execution_count": null,
   "metadata": {},
   "outputs": [],
   "source": [
    "def yval2(x):\n",
    "    y=0\n",
    "    for i in range (len(a2)):\n",
    "        y += a2[i]*phi(i,x)\n",
    "        return y\n",
    "print(yval2(0.5))"
   ]
  },
  {
   "cell_type": "code",
   "execution_count": null,
   "metadata": {
    "scrolled": true
   },
   "outputs": [],
   "source": [
    "plt.plot(x,y,'g')\n",
    "plt.plot(x[::1],yval(x)[::1],'r')\n",
    "plt.legend([\"exact\",\"approximate\"])\n",
    "plt.show()"
   ]
  },
  {
   "cell_type": "markdown",
   "metadata": {},
   "source": [
    "# 1.g) for M=30"
   ]
  },
  {
   "cell_type": "code",
   "execution_count": null,
   "metadata": {},
   "outputs": [],
   "source": [
    "M=int(input(\"enter value of M\"))\n",
    "\n",
    "A2 = np.zeros((M,M))\n",
    "for i in range(M):\n",
    "    for j in range(M):\n",
    "            for k in range(len(x)):\n",
    "                A2[i,j] += ((x[k])**(i))*((x[k])**(j))\n",
    "B2 = np.zeros(M)\n",
    "for i in range(M):\n",
    "    for j in range(len(y)):\n",
    "        B2[i] += y[j]*((x[j])**(i))\n",
    "        \n",
    "C2=np.linalg.inv(A2)\n",
    "\n",
    "a2=np.dot(C2,B2)\n",
    "print(a2)\n"
   ]
  },
  {
   "cell_type": "code",
   "execution_count": null,
   "metadata": {},
   "outputs": [],
   "source": [
    "def yval2(x):\n",
    "    y=0\n",
    "    for i in range (len(a2)):\n",
    "        y += a2[i]*phi(i,x)\n",
    "        return y\n",
    "print(yval2(0.5))"
   ]
  },
  {
   "cell_type": "code",
   "execution_count": null,
   "metadata": {},
   "outputs": [],
   "source": [
    "plt.plot(x,y,'g')\n",
    "plt.plot(x[::1],yval(x)[::1],'r')\n",
    "plt.legend([\"exact\",\"approximate\"])\n",
    "plt.show()"
   ]
  },
  {
   "cell_type": "markdown",
   "metadata": {},
   "source": [
    "# 1.g) for M=40"
   ]
  },
  {
   "cell_type": "code",
   "execution_count": null,
   "metadata": {},
   "outputs": [],
   "source": [
    "M=int(input(\"enter value of M\"))\n",
    "\n",
    "A2 = np.zeros((M,M))\n",
    "for i in range(M):\n",
    "    for j in range(M):\n",
    "            for k in range(len(x)):\n",
    "                A2[i,j] += ((x[k])**(i))*((x[k])**(j))\n",
    "B2 = np.zeros(M)\n",
    "for i in range(M):\n",
    "    for j in range(len(y)):\n",
    "        B2[i] += y[j]*((x[j])**(i))\n",
    "        \n",
    "C2=np.linalg.inv(A2)\n",
    "\n",
    "a2=np.dot(C2,B2)\n",
    "print(a2)\n"
   ]
  },
  {
   "cell_type": "code",
   "execution_count": null,
   "metadata": {},
   "outputs": [],
   "source": [
    "def yval2(x):\n",
    "    y=0\n",
    "    for i in range (len(a2)):\n",
    "        y += a2[i]*phi(i,x)\n",
    "        return y\n",
    "print(yval2(0.5))"
   ]
  },
  {
   "cell_type": "code",
   "execution_count": null,
   "metadata": {},
   "outputs": [],
   "source": [
    "plt.plot(x,y,'g')\n",
    "plt.plot(x[::1],yval(x)[::1],'r')\n",
    "plt.legend([\"exact\",\"approximate\"])\n",
    "plt.show()"
   ]
  },
  {
   "cell_type": "markdown",
   "metadata": {},
   "source": [
    "# 1.g) for M=35"
   ]
  },
  {
   "cell_type": "code",
   "execution_count": null,
   "metadata": {},
   "outputs": [],
   "source": [
    "M=int(input(\"enter value of M\"))\n",
    "\n",
    "A2 = np.zeros((M,M))\n",
    "for i in range(M):\n",
    "    for j in range(M):\n",
    "            for k in range(len(x)):\n",
    "                A2[i,j] += ((x[k])**(i))*((x[k])**(j))\n",
    "B2 = np.zeros(M)\n",
    "for i in range(M):\n",
    "    for j in range(len(y)):\n",
    "        B2[i] += y[j]*((x[j])**(i))\n",
    "        \n",
    "C2=np.linalg.inv(A2)\n",
    "\n",
    "a2=np.dot(C2,B2)\n",
    "print(a2)\n"
   ]
  },
  {
   "cell_type": "code",
   "execution_count": null,
   "metadata": {},
   "outputs": [],
   "source": [
    "def yval2(x):\n",
    "    y=0\n",
    "    for i in range (len(a2)):\n",
    "        y += a2[i]*phi(i,x)\n",
    "        return y\n",
    "print(yval2(0.5))"
   ]
  },
  {
   "cell_type": "code",
   "execution_count": null,
   "metadata": {},
   "outputs": [],
   "source": [
    "plt.plot(x,y,'g')\n",
    "plt.plot(x[::1],yval(x)[::1],'r')\n",
    "plt.legend([\"exact\",\"approximate\"])\n",
    "plt.show()"
   ]
  },
  {
   "cell_type": "markdown",
   "metadata": {},
   "source": [
    "# Question 3\n",
    "3.b)\n"
   ]
  },
  {
   "cell_type": "code",
   "execution_count": 21,
   "metadata": {},
   "outputs": [
    {
     "ename": "SyntaxError",
     "evalue": "invalid syntax (<ipython-input-21-0efa263c6bbc>, line 19)",
     "output_type": "error",
     "traceback": [
      "\u001b[0;36m  File \u001b[0;32m\"<ipython-input-21-0efa263c6bbc>\"\u001b[0;36m, line \u001b[0;32m19\u001b[0m\n\u001b[0;31m    return potential energy function\u001b[0m\n\u001b[0m                          ^\u001b[0m\n\u001b[0;31mSyntaxError\u001b[0m\u001b[0;31m:\u001b[0m invalid syntax\n"
     ]
    }
   ],
   "source": [
    "Xmax=1\n",
    "Xmin=-1\n",
    "h=0.01\n",
    "N=int((Xmax-Xmin)/h)\n",
    "print (N)\n",
    "x=np.linspace(Xmin,Xman,h)\n",
    "\n",
    "T=np.zeros((N-2,N-2))\n",
    "for i in range (N-2):\n",
    "    for j in range (N-2):\n",
    "        if (i==j):\n",
    "            T[i,j]=-2\n",
    "        elif abs(i-j)==1:\n",
    "                T[i,j]=1\n",
    "        else:\n",
    "            T[i,j]=0\n",
    "print(T)\n",
    "def Pot(x):\n",
    "    return potential energy function\n",
    "V=np.zeros((N-2,N-2))\n",
    "for i in range (N-2):\n",
    "    for j in range (N-2):\n",
    "        if (i==j):\n",
    "            V[i,j]=pot()\n",
    "       \n",
    "        else:\n",
    "            V[i,j]=0\n",
    "print(V)\n",
    "H=T+V"
   ]
  },
  {
   "cell_type": "markdown",
   "metadata": {},
   "source": [
    "# 3.c)"
   ]
  },
  {
   "cell_type": "code",
   "execution_count": null,
   "metadata": {},
   "outputs": [],
   "source": [
    "from scipy.sparse.linalg import eigsh\n",
    "Xmax=1\n",
    "Xmin=-1\n",
    "h=0.01\n",
    "N=int((Xmax-Xmin)/h)\n",
    "print (N)\n",
    "x=np.linspace(Xmin,Xmax,N)\n",
    "\n",
    "T=np.zeros((N-2,N-2))\n",
    "for i in range (N-2):\n",
    "    for j in range (N-2):\n",
    "        if (i==j):\n",
    "            T[i,j]=2/(2*h**2)\n",
    "        elif abs(i-j)==1:\n",
    "            T[i,j]=-1/(2*h**2)\n",
    "        else:\n",
    "            T[i,j]=0\n",
    "#print(T)\n",
    "#def Pot(x):\n",
    "   # return potential energy function\n",
    "V=np.zeros((N-2,N-2))\n",
    "for i in range (N-2):\n",
    "    for j in range (N-2):\n",
    "        if (i==j):\n",
    "            V[i,j]=0\n",
    "        else:\n",
    "            V[i,j]=0\n",
    "#print(V)\n",
    "H=T+V\n",
    "\n",
    "print (H)\n",
    "e1,E= eigsh(H,which='SM')\n",
    "for i in range (2):\n",
    "    e2=E[:,i]\n",
    "    plt.plot(x[1:-1], e2,label=r\"$n=%i$\"%i)\n",
    "plt.show()"
   ]
  },
  {
   "cell_type": "markdown",
   "metadata": {},
   "source": [
    "# 3.d)"
   ]
  },
  {
   "cell_type": "code",
   "execution_count": null,
   "metadata": {},
   "outputs": [],
   "source": [
    "from scipy.sparse.linalg import eigsh\n",
    "Xmax=1\n",
    "Xmin=-1\n",
    "h=0.01\n",
    "N=int((Xmax-Xmin)/h)\n",
    "print (N)\n",
    "x=np.linspace(Xmin,Xmax,N)\n",
    "\n",
    "T=np.zeros((N-2,N-2))\n",
    "for i in range (N-2):\n",
    "    for j in range (N-2):\n",
    "        if (i==j):\n",
    "            T[i,j]=2/(2*h**2)\n",
    "        elif abs(i-j)==1:\n",
    "            T[i,j]=-1/(2*h**2)\n",
    "        else:\n",
    "            T[i,j]=0\n",
    "#print(T)\n",
    "def Pot (x):\n",
    "    g=(x**2)/2\n",
    "    return g\n",
    "   \n",
    "V=np.zeros((N-2,N-2))\n",
    "for i in range (N-2):\n",
    "    for j in range (N-2):\n",
    "        if i==j:\n",
    "            V[i,j]=Pot(x[i])\n",
    "        else:\n",
    "            V[i,j]=0\n",
    "#print(V)\n",
    "H=T+V\n",
    "\n",
    "print (H)\n",
    "e1,E= eigsh(H,which='SM')\n",
    "for i in range (2):\n",
    "    e2=E[:,i]\n",
    "    plt.plot(x[1:-1], e2,label=r\"$n=%i$\"%i)\n",
    "plt.show()"
   ]
  },
  {
   "cell_type": "markdown",
   "metadata": {},
   "source": [
    "# 3.e)"
   ]
  },
  {
   "cell_type": "code",
   "execution_count": null,
   "metadata": {},
   "outputs": [],
   "source": [
    "from scipy.sparse.linalg import eigsh\n",
    "Xmax=1\n",
    "Xmin=-1\n",
    "h=0.03\n",
    "N=int((Xmax-Xmin)/h)\n",
    "print (N)\n",
    "x=np.linspace(Xmin,Xmax,N)\n",
    "\n",
    "T=np.zeros((N-2,N-2))\n",
    "for i in range (N-2):\n",
    "    for j in range (N-2):\n",
    "        if (i==j):\n",
    "            T[i,j]=2/(2*h**2)\n",
    "        elif abs(i-j)==1:\n",
    "            T[i,j]=-1/(2*h**2)\n",
    "        else:\n",
    "            T[i,j]=0\n",
    "#print(T)\n",
    "def Pot (x):\n",
    "    g=(x**4)/24-3*(x**2)/2\n",
    "    return g\n",
    "   \n",
    "V=np.zeros((N-2,N-2))\n",
    "for i in range (N-2):\n",
    "    for j in range (N-2):\n",
    "        if i==j:\n",
    "            V[i,j]=Pot(x[i])\n",
    "        else:\n",
    "            V[i,j]=0\n",
    "#print(V)\n",
    "H=T+V\n",
    "\n",
    "print (H)\n",
    "e1,E= eigsh(H,which='SM')\n",
    "for i in range (2):\n",
    "    e2=E[:,i]\n",
    "    plt.plot(x[1:-1], e2,label=r\"$n=%i$\"%i)\n",
    "plt.show()"
   ]
  },
  {
   "cell_type": "code",
   "execution_count": null,
   "metadata": {},
   "outputs": [],
   "source": []
  },
  {
   "cell_type": "code",
   "execution_count": null,
   "metadata": {},
   "outputs": [],
   "source": []
  }
 ],
 "metadata": {
  "kernelspec": {
   "display_name": "Python 3 (ipykernel)",
   "language": "python",
   "name": "python3"
  },
  "language_info": {
   "codemirror_mode": {
    "name": "ipython",
    "version": 3
   },
   "file_extension": ".py",
   "mimetype": "text/x-python",
   "name": "python",
   "nbconvert_exporter": "python",
   "pygments_lexer": "ipython3",
   "version": "3.7.6"
  }
 },
 "nbformat": 4,
 "nbformat_minor": 5
}
